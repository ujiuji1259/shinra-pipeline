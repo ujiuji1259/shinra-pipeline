{
 "cells": [
  {
   "cell_type": "code",
   "execution_count": null,
   "source": [
    "import pickle\n",
    "with open('/data1/ujiie/wiki_resource/pages_preprocessed_for_bert-base-japanese.pkl', 'rb') as f:\n",
    "    cands = pickle.load(f)"
   ],
   "outputs": [],
   "metadata": {}
  },
  {
   "cell_type": "code",
   "execution_count": 9,
   "source": [
    "list(cands[5].keys())"
   ],
   "outputs": [
    {
     "output_type": "execute_result",
     "data": {
      "text/plain": [
       "['title', 'description', 'title_ids', 'description_ids']"
      ]
     },
     "metadata": {},
     "execution_count": 9
    }
   ],
   "metadata": {}
  },
  {
   "cell_type": "code",
   "execution_count": 1,
   "source": [
    "import json\n",
    "riken_cands = []\n",
    "with open('/data1/ujiie/wiki_resource/jawiki-20190120-title2pageid.json', 'r') as f:\n",
    "    for line in f:\n",
    "        line = line.rstrip()\n",
    "        if not line:\n",
    "            continue\n",
    "        line = json.loads(line)\n",
    "        riken_cands.append(line)\n"
   ],
   "outputs": [],
   "metadata": {}
  },
  {
   "cell_type": "code",
   "execution_count": 4,
   "source": [
    "import csv\n",
    "with open(\"/data1/ujiie/wiki_resource/title2page.csv\", 'w') as f:\n",
    "    writer = csv.writer(f)\n",
    "    for cand in riken_cands:\n",
    "        page_id = cand['page_id']\n",
    "        if cand['is_redirect']:\n",
    "            page_id = cand['redirect_to']['page_id']\n",
    "        writer.writerow([cand['title'], page_id])\n",
    "        "
   ],
   "outputs": [],
   "metadata": {}
  },
  {
   "cell_type": "code",
   "execution_count": 11,
   "source": [
    "riken_cands[:10]"
   ],
   "outputs": [
    {
     "output_type": "execute_result",
     "data": {
      "text/plain": [
       "[{'page_id': 305230,\n",
       "  'title': '!',\n",
       "  'is_redirect': True,\n",
       "  'redirect_to': {'page_id': 124376, 'title': '感嘆符', 'is_redirect': False}},\n",
       " {'page_id': 1896353,\n",
       "  'title': '!!',\n",
       "  'is_redirect': True,\n",
       "  'redirect_to': {'page_id': 124376, 'title': '感嘆符', 'is_redirect': False}},\n",
       " {'page_id': 617718, 'title': '!!!', 'is_redirect': False},\n",
       " {'page_id': 625023, 'title': '!!!Fuck_You!!!', 'is_redirect': False},\n",
       " {'page_id': 3625389,\n",
       "  'title': '!=',\n",
       "  'is_redirect': True,\n",
       "  'redirect_to': {'page_id': 115475, 'title': '不等号', 'is_redirect': False}},\n",
       " {'page_id': 653921,\n",
       "  'title': '!?',\n",
       "  'is_redirect': True,\n",
       "  'redirect_to': {'page_id': 1269306,\n",
       "   'title': '感嘆符疑問符',\n",
       "   'is_redirect': False}},\n",
       " {'page_id': 1246092, 'title': '!LOUD!', 'is_redirect': False},\n",
       " {'page_id': 1449325, 'title': '!SHOUT!', 'is_redirect': False},\n",
       " {'page_id': 1141485, 'title': '!_-attention-', 'is_redirect': False},\n",
       " {'page_id': 907547, 'title': '!wagero!', 'is_redirect': False}]"
      ]
     },
     "metadata": {},
     "execution_count": 11
    }
   ],
   "metadata": {}
  },
  {
   "cell_type": "code",
   "execution_count": 15,
   "source": [
    "for cand in riken_cands:\n",
    "    page_id = cand[\"page_id\"]\n",
    "    if page_id in cands:\n",
    "        if cand['is_redirect']:\n",
    "            print(cand)\n",
    "        continue\n",
    "    elif cand['is_redirect'] is False:\n",
    "        print(cand)"
   ],
   "outputs": [
    {
     "output_type": "stream",
     "name": "stdout",
     "text": [
      "{'page_id': 3894454, 'title': 'KO_SHIBASAKI_ALL_TIME_BEST', 'is_redirect': False}\n",
      "{'page_id': 3894452, 'title': 'WORLDISTA', 'is_redirect': False}\n",
      "{'page_id': 3894438, 'title': 'シルヴィア・ルウェイン・デイヴィス', 'is_redirect': False}\n",
      "{'page_id': 3894463, 'title': 'ハノイ都市鉄道2A号線', 'is_redirect': False}\n",
      "{'page_id': 3894444, 'title': 'モナ・グルート', 'is_redirect': False}\n",
      "{'page_id': 3894449, 'title': 'ルファック', 'is_redirect': False}\n",
      "{'page_id': 3894464, 'title': '兵部行遠', 'is_redirect': False}\n",
      "{'page_id': 3894445, 'title': '宮澤那名子', 'is_redirect': False}\n",
      "{'page_id': 3894458, 'title': '山脇秀夫', 'is_redirect': False}\n",
      "{'page_id': 3894451, 'title': '時里二郎', 'is_redirect': False}\n",
      "{'page_id': 3894461, 'title': '本宮映画劇場', 'is_redirect': False}\n",
      "{'page_id': 3894450, 'title': '村上信五のスポーツ奇跡の瞬間アワード', 'is_redirect': False}\n",
      "{'page_id': 3894457, 'title': '津島隆太', 'is_redirect': False}\n",
      "{'page_id': 3894465, 'title': '羽鳥×宮本_福岡好いとぉ', 'is_redirect': False}\n"
     ]
    }
   ],
   "metadata": {}
  },
  {
   "cell_type": "code",
   "execution_count": null,
   "source": [],
   "outputs": [],
   "metadata": {}
  }
 ],
 "metadata": {
  "orig_nbformat": 4,
  "language_info": {
   "name": "python",
   "version": "3.7.11",
   "mimetype": "text/x-python",
   "codemirror_mode": {
    "name": "ipython",
    "version": 3
   },
   "pygments_lexer": "ipython3",
   "nbconvert_exporter": "python",
   "file_extension": ".py"
  },
  "kernelspec": {
   "name": "python3",
   "display_name": "Python 3.7.11 64-bit ('anaconda3-2019.10': pyenv)"
  },
  "interpreter": {
   "hash": "e51c5f256d71b2b33a64ccdd4da515bbaa93decd18c7ffd011d49e5cf27acb29"
  }
 },
 "nbformat": 4,
 "nbformat_minor": 2
}