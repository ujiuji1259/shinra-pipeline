{
 "metadata": {
  "language_info": {
   "codemirror_mode": {
    "name": "ipython",
    "version": 3
   },
   "file_extension": ".py",
   "mimetype": "text/x-python",
   "name": "python",
   "nbconvert_exporter": "python",
   "pygments_lexer": "ipython3",
   "version": "3.7.4"
  },
  "orig_nbformat": 4,
  "kernelspec": {
   "name": "python3",
   "display_name": "Python 3.7.4 64-bit ('anaconda3-2019.10': pyenv)"
  },
  "interpreter": {
   "hash": "e51c5f256d71b2b33a64ccdd4da515bbaa93decd18c7ffd011d49e5cf27acb29"
  }
 },
 "nbformat": 4,
 "nbformat_minor": 2,
 "cells": [
  {
   "cell_type": "code",
   "execution_count": 2,
   "metadata": {},
   "outputs": [],
   "source": [
    "def load_annotation(path):\n",
    "    ann = defaultdict(list)\n",
    "    with open(path, \"r\") as f:\n",
    "        for line in f:\n",
    "            line = line.rstrip()\n",
    "            if not line:\n",
    "                continue\n",
    "            line = json.loads(line)\n",
    "            line[\"page_id\"] = int(line[\"page_id\"])\n",
    "            ann[line[\"page_id\"]].append(line)\n",
    "    return ann"
   ]
  },
  {
   "cell_type": "code",
   "execution_count": 18,
   "metadata": {
    "tags": []
   },
   "outputs": [],
   "source": [
    "from pathlib import Path\n",
    "from collections import defaultdict\n",
    "import numpy as np\n",
    "from sklearn.model_selection import train_test_split\n",
    "base_path = Path(\"/data1/ujiie/shinra/tohoku_bert/\")\n",
    "\n",
    "import json\n",
    "\n",
    "for path in base_path.glob(\"**/\"):\n",
    "    if path.stem in [\"tohoku_bert\", \"_temp_files\", \"tokens\"]:\n",
    "        continue\n",
    "    if path.parent.stem == \"tohoku_bert\":\n",
    "        continue\n",
    "\n",
    "    if not (path / \"tokens\").exists():\n",
    "        continue\n",
    "\n",
    "    category = path.stem\n",
    "\n",
    "    diff_cnt = 0\n",
    "    total = 0\n",
    "\n",
    "    anns = load_annotation(path / f\"{category}_dist.json\")\n",
    "    ids = np.array(list(anns.keys()))\n",
    "    train_ids, test_ids = train_test_split(ids, test_size=0.2)\n",
    "    train_ids, valid_ids = train_test_split(train_ids, test_size=0.25)\n",
    "\n",
    "    (base_path / \"data_split\" / category).mkdir(exist_ok=True)\n",
    "    with open(base_path / \"data_split\" / category / \"train.txt\", \"w\") as f:\n",
    "        f.write(\"\\n\".join(train_ids.astype(str)))\n",
    "    with open(base_path / \"data_split\" / category / \"valid.txt\", \"w\") as f:\n",
    "        f.write(\"\\n\".join(valid_ids.astype(str)))\n",
    "    with open(base_path / \"data_split\" / category / \"test.txt\", \"w\") as f:\n",
    "        f.write(\"\\n\".join(test_ids.astype(str)))\n",
    "\n",
    "    "
   ]
  },
  {
   "cell_type": "code",
   "execution_count": null,
   "metadata": {},
   "outputs": [],
   "source": []
  },
  {
   "cell_type": "code",
   "execution_count": null,
   "metadata": {},
   "outputs": [],
   "source": []
  },
  {
   "cell_type": "code",
   "execution_count": null,
   "metadata": {},
   "outputs": [],
   "source": []
  }
 ]
}